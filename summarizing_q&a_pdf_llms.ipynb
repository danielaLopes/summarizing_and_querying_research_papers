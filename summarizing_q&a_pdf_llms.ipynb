{
 "cells": [
  {
   "cell_type": "markdown",
   "metadata": {},
   "source": [
    "References:\n",
    "* https://medium.com/@nageshmashette32/building-a-document-based-question-answering-system-with-langchain-using-open-source-llm-model-3b49c0d4a8b8\n",
    "* https://iamholumeedey007.medium.com/building-a-pdf-summarizer-with-langchain-a1dea8d2cd3a"
   ]
  },
  {
   "cell_type": "code",
   "execution_count": 1,
   "metadata": {},
   "outputs": [
    {
     "name": "stdout",
     "output_type": "stream",
     "text": [
      "Requirement already satisfied: langchain in /home/dlopes/anaconda3/envs/pytorch2/lib/python3.9/site-packages (0.0.350)\n",
      "Requirement already satisfied: PyYAML>=5.3 in /home/dlopes/anaconda3/envs/pytorch2/lib/python3.9/site-packages (from langchain) (6.0.1)\n",
      "Requirement already satisfied: SQLAlchemy<3,>=1.4 in /home/dlopes/anaconda3/envs/pytorch2/lib/python3.9/site-packages (from langchain) (2.0.22)\n",
      "Requirement already satisfied: aiohttp<4.0.0,>=3.8.3 in /home/dlopes/anaconda3/envs/pytorch2/lib/python3.9/site-packages (from langchain) (3.8.6)\n",
      "Requirement already satisfied: async-timeout<5.0.0,>=4.0.0 in /home/dlopes/anaconda3/envs/pytorch2/lib/python3.9/site-packages (from langchain) (4.0.3)\n",
      "Requirement already satisfied: dataclasses-json<0.7,>=0.5.7 in /home/dlopes/anaconda3/envs/pytorch2/lib/python3.9/site-packages (from langchain) (0.6.1)\n",
      "Requirement already satisfied: jsonpatch<2.0,>=1.33 in /home/dlopes/anaconda3/envs/pytorch2/lib/python3.9/site-packages (from langchain) (1.33)\n",
      "Requirement already satisfied: langchain-community<0.1,>=0.0.2 in /home/dlopes/anaconda3/envs/pytorch2/lib/python3.9/site-packages (from langchain) (0.0.2)\n",
      "Requirement already satisfied: langchain-core<0.2,>=0.1 in /home/dlopes/anaconda3/envs/pytorch2/lib/python3.9/site-packages (from langchain) (0.1.0)\n",
      "Requirement already satisfied: langsmith<0.1.0,>=0.0.63 in /home/dlopes/anaconda3/envs/pytorch2/lib/python3.9/site-packages (from langchain) (0.0.69)\n",
      "Requirement already satisfied: numpy<2,>=1 in /home/dlopes/.local/lib/python3.9/site-packages (from langchain) (1.24.2)\n",
      "Requirement already satisfied: pydantic<3,>=1 in /home/dlopes/anaconda3/envs/pytorch2/lib/python3.9/site-packages (from langchain) (2.4.2)\n",
      "Requirement already satisfied: requests<3,>=2 in /home/dlopes/anaconda3/envs/pytorch2/lib/python3.9/site-packages (from langchain) (2.31.0)\n",
      "Requirement already satisfied: tenacity<9.0.0,>=8.1.0 in /home/dlopes/anaconda3/envs/pytorch2/lib/python3.9/site-packages (from langchain) (8.2.3)\n",
      "Requirement already satisfied: attrs>=17.3.0 in /home/dlopes/anaconda3/envs/pytorch2/lib/python3.9/site-packages (from aiohttp<4.0.0,>=3.8.3->langchain) (23.1.0)\n",
      "Requirement already satisfied: charset-normalizer<4.0,>=2.0 in /home/dlopes/anaconda3/envs/pytorch2/lib/python3.9/site-packages (from aiohttp<4.0.0,>=3.8.3->langchain) (3.3.0)\n",
      "Requirement already satisfied: multidict<7.0,>=4.5 in /home/dlopes/anaconda3/envs/pytorch2/lib/python3.9/site-packages (from aiohttp<4.0.0,>=3.8.3->langchain) (6.0.4)\n",
      "Requirement already satisfied: yarl<2.0,>=1.0 in /home/dlopes/anaconda3/envs/pytorch2/lib/python3.9/site-packages (from aiohttp<4.0.0,>=3.8.3->langchain) (1.9.2)\n",
      "Requirement already satisfied: frozenlist>=1.1.1 in /home/dlopes/anaconda3/envs/pytorch2/lib/python3.9/site-packages (from aiohttp<4.0.0,>=3.8.3->langchain) (1.4.0)\n",
      "Requirement already satisfied: aiosignal>=1.1.2 in /home/dlopes/anaconda3/envs/pytorch2/lib/python3.9/site-packages (from aiohttp<4.0.0,>=3.8.3->langchain) (1.3.1)\n",
      "Requirement already satisfied: marshmallow<4.0.0,>=3.18.0 in /home/dlopes/anaconda3/envs/pytorch2/lib/python3.9/site-packages (from dataclasses-json<0.7,>=0.5.7->langchain) (3.20.1)\n",
      "Requirement already satisfied: typing-inspect<1,>=0.4.0 in /home/dlopes/anaconda3/envs/pytorch2/lib/python3.9/site-packages (from dataclasses-json<0.7,>=0.5.7->langchain) (0.9.0)\n",
      "Requirement already satisfied: jsonpointer>=1.9 in /home/dlopes/anaconda3/envs/pytorch2/lib/python3.9/site-packages (from jsonpatch<2.0,>=1.33->langchain) (2.4)\n",
      "Requirement already satisfied: anyio<5,>=3 in /home/dlopes/anaconda3/envs/pytorch2/lib/python3.9/site-packages (from langchain-core<0.2,>=0.1->langchain) (3.7.1)\n",
      "Requirement already satisfied: packaging<24.0,>=23.2 in /home/dlopes/anaconda3/envs/pytorch2/lib/python3.9/site-packages (from langchain-core<0.2,>=0.1->langchain) (23.2)\n",
      "Requirement already satisfied: annotated-types>=0.4.0 in /home/dlopes/anaconda3/envs/pytorch2/lib/python3.9/site-packages (from pydantic<3,>=1->langchain) (0.6.0)\n",
      "Requirement already satisfied: pydantic-core==2.10.1 in /home/dlopes/anaconda3/envs/pytorch2/lib/python3.9/site-packages (from pydantic<3,>=1->langchain) (2.10.1)\n",
      "Requirement already satisfied: typing-extensions>=4.6.1 in /home/dlopes/anaconda3/envs/pytorch2/lib/python3.9/site-packages (from pydantic<3,>=1->langchain) (4.8.0)\n",
      "Requirement already satisfied: idna<4,>=2.5 in /home/dlopes/anaconda3/envs/pytorch2/lib/python3.9/site-packages (from requests<3,>=2->langchain) (3.4)\n",
      "Requirement already satisfied: urllib3<3,>=1.21.1 in /home/dlopes/anaconda3/envs/pytorch2/lib/python3.9/site-packages (from requests<3,>=2->langchain) (2.0.7)\n",
      "Requirement already satisfied: certifi>=2017.4.17 in /home/dlopes/anaconda3/envs/pytorch2/lib/python3.9/site-packages (from requests<3,>=2->langchain) (2023.11.17)\n",
      "Requirement already satisfied: greenlet!=0.4.17 in /home/dlopes/anaconda3/envs/pytorch2/lib/python3.9/site-packages (from SQLAlchemy<3,>=1.4->langchain) (3.0.0)\n",
      "Requirement already satisfied: sniffio>=1.1 in /home/dlopes/anaconda3/envs/pytorch2/lib/python3.9/site-packages (from anyio<5,>=3->langchain-core<0.2,>=0.1->langchain) (1.3.0)\n",
      "Requirement already satisfied: exceptiongroup in /home/dlopes/anaconda3/envs/pytorch2/lib/python3.9/site-packages (from anyio<5,>=3->langchain-core<0.2,>=0.1->langchain) (1.1.3)\n",
      "Requirement already satisfied: mypy-extensions>=0.3.0 in /home/dlopes/anaconda3/envs/pytorch2/lib/python3.9/site-packages (from typing-inspect<1,>=0.4.0->dataclasses-json<0.7,>=0.5.7->langchain) (1.0.0)\n",
      "Requirement already satisfied: chromadb in /home/dlopes/anaconda3/envs/pytorch2/lib/python3.9/site-packages (0.4.14)\n",
      "Requirement already satisfied: requests>=2.28 in /home/dlopes/anaconda3/envs/pytorch2/lib/python3.9/site-packages (from chromadb) (2.31.0)\n",
      "Requirement already satisfied: pydantic>=1.9 in /home/dlopes/anaconda3/envs/pytorch2/lib/python3.9/site-packages (from chromadb) (2.4.2)\n",
      "Requirement already satisfied: chroma-hnswlib==0.7.3 in /home/dlopes/anaconda3/envs/pytorch2/lib/python3.9/site-packages (from chromadb) (0.7.3)\n",
      "Requirement already satisfied: fastapi>=0.95.2 in /home/dlopes/anaconda3/envs/pytorch2/lib/python3.9/site-packages (from chromadb) (0.104.0)\n",
      "Requirement already satisfied: uvicorn>=0.18.3 in /home/dlopes/anaconda3/envs/pytorch2/lib/python3.9/site-packages (from uvicorn[standard]>=0.18.3->chromadb) (0.23.2)\n",
      "Requirement already satisfied: posthog>=2.4.0 in /home/dlopes/anaconda3/envs/pytorch2/lib/python3.9/site-packages (from chromadb) (3.0.2)\n",
      "Requirement already satisfied: typing-extensions>=4.5.0 in /home/dlopes/anaconda3/envs/pytorch2/lib/python3.9/site-packages (from chromadb) (4.8.0)\n",
      "Requirement already satisfied: pulsar-client>=3.1.0 in /home/dlopes/anaconda3/envs/pytorch2/lib/python3.9/site-packages (from chromadb) (3.3.0)\n",
      "Requirement already satisfied: onnxruntime>=1.14.1 in /home/dlopes/anaconda3/envs/pytorch2/lib/python3.9/site-packages (from chromadb) (1.16.1)\n",
      "Requirement already satisfied: tokenizers>=0.13.2 in /home/dlopes/anaconda3/envs/pytorch2/lib/python3.9/site-packages (from chromadb) (0.15.0)\n",
      "Requirement already satisfied: pypika>=0.48.9 in /home/dlopes/anaconda3/envs/pytorch2/lib/python3.9/site-packages (from chromadb) (0.48.9)\n",
      "Requirement already satisfied: tqdm>=4.65.0 in /home/dlopes/.local/lib/python3.9/site-packages (from chromadb) (4.65.0)\n",
      "Requirement already satisfied: overrides>=7.3.1 in /home/dlopes/anaconda3/envs/pytorch2/lib/python3.9/site-packages (from chromadb) (7.4.0)\n",
      "Requirement already satisfied: importlib-resources in /home/dlopes/.local/lib/python3.9/site-packages (from chromadb) (5.12.0)\n",
      "Requirement already satisfied: grpcio>=1.58.0 in /home/dlopes/anaconda3/envs/pytorch2/lib/python3.9/site-packages (from chromadb) (1.59.0)\n",
      "Requirement already satisfied: bcrypt>=4.0.1 in /home/dlopes/anaconda3/envs/pytorch2/lib/python3.9/site-packages (from chromadb) (4.0.1)\n",
      "Requirement already satisfied: typer>=0.9.0 in /home/dlopes/anaconda3/envs/pytorch2/lib/python3.9/site-packages (from chromadb) (0.9.0)\n",
      "Requirement already satisfied: numpy>=1.22.5 in /home/dlopes/.local/lib/python3.9/site-packages (from chromadb) (1.24.2)\n",
      "Requirement already satisfied: anyio<4.0.0,>=3.7.1 in /home/dlopes/anaconda3/envs/pytorch2/lib/python3.9/site-packages (from fastapi>=0.95.2->chromadb) (3.7.1)\n",
      "Requirement already satisfied: starlette<0.28.0,>=0.27.0 in /home/dlopes/anaconda3/envs/pytorch2/lib/python3.9/site-packages (from fastapi>=0.95.2->chromadb) (0.27.0)\n",
      "Requirement already satisfied: coloredlogs in /home/dlopes/anaconda3/envs/pytorch2/lib/python3.9/site-packages (from onnxruntime>=1.14.1->chromadb) (15.0.1)\n",
      "Requirement already satisfied: flatbuffers in /home/dlopes/anaconda3/envs/pytorch2/lib/python3.9/site-packages (from onnxruntime>=1.14.1->chromadb) (23.5.26)\n",
      "Requirement already satisfied: packaging in /home/dlopes/anaconda3/envs/pytorch2/lib/python3.9/site-packages (from onnxruntime>=1.14.1->chromadb) (23.2)\n",
      "Requirement already satisfied: protobuf in /home/dlopes/anaconda3/envs/pytorch2/lib/python3.9/site-packages (from onnxruntime>=1.14.1->chromadb) (4.24.4)\n",
      "Requirement already satisfied: sympy in /home/dlopes/anaconda3/envs/pytorch2/lib/python3.9/site-packages (from onnxruntime>=1.14.1->chromadb) (1.12)\n",
      "Requirement already satisfied: six>=1.5 in /home/dlopes/anaconda3/envs/pytorch2/lib/python3.9/site-packages (from posthog>=2.4.0->chromadb) (1.16.0)\n",
      "Requirement already satisfied: monotonic>=1.5 in /home/dlopes/anaconda3/envs/pytorch2/lib/python3.9/site-packages (from posthog>=2.4.0->chromadb) (1.6)\n",
      "Requirement already satisfied: backoff>=1.10.0 in /home/dlopes/.local/lib/python3.9/site-packages (from posthog>=2.4.0->chromadb) (2.2.1)\n",
      "Requirement already satisfied: python-dateutil>2.1 in /home/dlopes/.local/lib/python3.9/site-packages (from posthog>=2.4.0->chromadb) (2.8.2)\n",
      "Requirement already satisfied: certifi in /home/dlopes/anaconda3/envs/pytorch2/lib/python3.9/site-packages (from pulsar-client>=3.1.0->chromadb) (2023.11.17)\n",
      "Requirement already satisfied: annotated-types>=0.4.0 in /home/dlopes/anaconda3/envs/pytorch2/lib/python3.9/site-packages (from pydantic>=1.9->chromadb) (0.6.0)\n",
      "Requirement already satisfied: pydantic-core==2.10.1 in /home/dlopes/anaconda3/envs/pytorch2/lib/python3.9/site-packages (from pydantic>=1.9->chromadb) (2.10.1)\n",
      "Requirement already satisfied: charset-normalizer<4,>=2 in /home/dlopes/anaconda3/envs/pytorch2/lib/python3.9/site-packages (from requests>=2.28->chromadb) (3.3.0)\n",
      "Requirement already satisfied: idna<4,>=2.5 in /home/dlopes/anaconda3/envs/pytorch2/lib/python3.9/site-packages (from requests>=2.28->chromadb) (3.4)\n",
      "Requirement already satisfied: urllib3<3,>=1.21.1 in /home/dlopes/anaconda3/envs/pytorch2/lib/python3.9/site-packages (from requests>=2.28->chromadb) (2.0.7)\n",
      "Requirement already satisfied: huggingface_hub<1.0,>=0.16.4 in /home/dlopes/anaconda3/envs/pytorch2/lib/python3.9/site-packages (from tokenizers>=0.13.2->chromadb) (0.19.4)\n",
      "Requirement already satisfied: click<9.0.0,>=7.1.1 in /home/dlopes/.local/lib/python3.9/site-packages (from typer>=0.9.0->chromadb) (8.1.3)\n",
      "Requirement already satisfied: h11>=0.8 in /home/dlopes/anaconda3/envs/pytorch2/lib/python3.9/site-packages (from uvicorn>=0.18.3->uvicorn[standard]>=0.18.3->chromadb) (0.14.0)\n",
      "Requirement already satisfied: httptools>=0.5.0 in /home/dlopes/anaconda3/envs/pytorch2/lib/python3.9/site-packages (from uvicorn[standard]>=0.18.3->chromadb) (0.6.1)\n",
      "Requirement already satisfied: python-dotenv>=0.13 in /home/dlopes/anaconda3/envs/pytorch2/lib/python3.9/site-packages (from uvicorn[standard]>=0.18.3->chromadb) (1.0.0)\n",
      "Requirement already satisfied: pyyaml>=5.1 in /home/dlopes/anaconda3/envs/pytorch2/lib/python3.9/site-packages (from uvicorn[standard]>=0.18.3->chromadb) (6.0.1)\n",
      "Requirement already satisfied: uvloop!=0.15.0,!=0.15.1,>=0.14.0 in /home/dlopes/anaconda3/envs/pytorch2/lib/python3.9/site-packages (from uvicorn[standard]>=0.18.3->chromadb) (0.18.0)\n",
      "Requirement already satisfied: watchfiles>=0.13 in /home/dlopes/anaconda3/envs/pytorch2/lib/python3.9/site-packages (from uvicorn[standard]>=0.18.3->chromadb) (0.21.0)\n",
      "Requirement already satisfied: websockets>=10.4 in /home/dlopes/anaconda3/envs/pytorch2/lib/python3.9/site-packages (from uvicorn[standard]>=0.18.3->chromadb) (11.0.3)\n",
      "Requirement already satisfied: zipp>=3.1.0 in /home/dlopes/.local/lib/python3.9/site-packages (from importlib-resources->chromadb) (3.15.0)\n",
      "Requirement already satisfied: sniffio>=1.1 in /home/dlopes/anaconda3/envs/pytorch2/lib/python3.9/site-packages (from anyio<4.0.0,>=3.7.1->fastapi>=0.95.2->chromadb) (1.3.0)\n",
      "Requirement already satisfied: exceptiongroup in /home/dlopes/anaconda3/envs/pytorch2/lib/python3.9/site-packages (from anyio<4.0.0,>=3.7.1->fastapi>=0.95.2->chromadb) (1.1.3)\n",
      "Requirement already satisfied: filelock in /home/dlopes/anaconda3/envs/pytorch2/lib/python3.9/site-packages (from huggingface_hub<1.0,>=0.16.4->tokenizers>=0.13.2->chromadb) (3.12.4)\n",
      "Requirement already satisfied: fsspec>=2023.5.0 in /home/dlopes/anaconda3/envs/pytorch2/lib/python3.9/site-packages (from huggingface_hub<1.0,>=0.16.4->tokenizers>=0.13.2->chromadb) (2023.9.2)\n",
      "Requirement already satisfied: humanfriendly>=9.1 in /home/dlopes/anaconda3/envs/pytorch2/lib/python3.9/site-packages (from coloredlogs->onnxruntime>=1.14.1->chromadb) (10.0)\n",
      "Requirement already satisfied: mpmath>=0.19 in /home/dlopes/anaconda3/envs/pytorch2/lib/python3.9/site-packages (from sympy->onnxruntime>=1.14.1->chromadb) (1.3.0)\n",
      "Requirement already satisfied: pypdf in /home/dlopes/anaconda3/envs/pytorch2/lib/python3.9/site-packages (3.17.2)\n",
      "Requirement already satisfied: typing_extensions>=3.7.4.3 in /home/dlopes/anaconda3/envs/pytorch2/lib/python3.9/site-packages (from pypdf) (4.8.0)\n",
      "Requirement already satisfied: faiss-cpu in /home/dlopes/anaconda3/envs/pytorch2/lib/python3.9/site-packages (1.7.4)\n",
      "Collecting git+https://github.com/huggingface/transformers\n",
      "  Cloning https://github.com/huggingface/transformers to /tmp/user/1012/pip-req-build-_pxp0c3w\n",
      "  Running command git clone --filter=blob:none --quiet https://github.com/huggingface/transformers /tmp/user/1012/pip-req-build-_pxp0c3w\n",
      "  Resolved https://github.com/huggingface/transformers to commit 2788f8d8d5f9cee2fe33a9292b0f3570bd566a6d\n",
      "  Installing build dependencies ... \u001b[?25ldone\n",
      "\u001b[?25h  Getting requirements to build wheel ... \u001b[?25ldone\n",
      "\u001b[?25h  Preparing metadata (pyproject.toml) ... \u001b[?25ldone\n",
      "\u001b[?25hRequirement already satisfied: filelock in /home/dlopes/anaconda3/envs/pytorch2/lib/python3.9/site-packages (from transformers==4.37.0.dev0) (3.12.4)\n",
      "Requirement already satisfied: huggingface-hub<1.0,>=0.19.3 in /home/dlopes/anaconda3/envs/pytorch2/lib/python3.9/site-packages (from transformers==4.37.0.dev0) (0.19.4)\n",
      "Requirement already satisfied: numpy>=1.17 in /home/dlopes/.local/lib/python3.9/site-packages (from transformers==4.37.0.dev0) (1.24.2)\n",
      "Requirement already satisfied: packaging>=20.0 in /home/dlopes/anaconda3/envs/pytorch2/lib/python3.9/site-packages (from transformers==4.37.0.dev0) (23.2)\n",
      "Requirement already satisfied: pyyaml>=5.1 in /home/dlopes/anaconda3/envs/pytorch2/lib/python3.9/site-packages (from transformers==4.37.0.dev0) (6.0.1)\n",
      "Requirement already satisfied: regex!=2019.12.17 in /home/dlopes/anaconda3/envs/pytorch2/lib/python3.9/site-packages (from transformers==4.37.0.dev0) (2023.10.3)\n",
      "Requirement already satisfied: requests in /home/dlopes/anaconda3/envs/pytorch2/lib/python3.9/site-packages (from transformers==4.37.0.dev0) (2.31.0)\n",
      "Requirement already satisfied: tokenizers<0.19,>=0.14 in /home/dlopes/anaconda3/envs/pytorch2/lib/python3.9/site-packages (from transformers==4.37.0.dev0) (0.15.0)\n",
      "Requirement already satisfied: safetensors>=0.3.1 in /home/dlopes/anaconda3/envs/pytorch2/lib/python3.9/site-packages (from transformers==4.37.0.dev0) (0.4.0)\n",
      "Requirement already satisfied: tqdm>=4.27 in /home/dlopes/.local/lib/python3.9/site-packages (from transformers==4.37.0.dev0) (4.65.0)\n",
      "Requirement already satisfied: fsspec>=2023.5.0 in /home/dlopes/anaconda3/envs/pytorch2/lib/python3.9/site-packages (from huggingface-hub<1.0,>=0.19.3->transformers==4.37.0.dev0) (2023.9.2)\n",
      "Requirement already satisfied: typing-extensions>=3.7.4.3 in /home/dlopes/anaconda3/envs/pytorch2/lib/python3.9/site-packages (from huggingface-hub<1.0,>=0.19.3->transformers==4.37.0.dev0) (4.8.0)\n",
      "Requirement already satisfied: charset-normalizer<4,>=2 in /home/dlopes/anaconda3/envs/pytorch2/lib/python3.9/site-packages (from requests->transformers==4.37.0.dev0) (3.3.0)\n",
      "Requirement already satisfied: idna<4,>=2.5 in /home/dlopes/anaconda3/envs/pytorch2/lib/python3.9/site-packages (from requests->transformers==4.37.0.dev0) (3.4)\n",
      "Requirement already satisfied: urllib3<3,>=1.21.1 in /home/dlopes/anaconda3/envs/pytorch2/lib/python3.9/site-packages (from requests->transformers==4.37.0.dev0) (2.0.7)\n",
      "Requirement already satisfied: certifi>=2017.4.17 in /home/dlopes/anaconda3/envs/pytorch2/lib/python3.9/site-packages (from requests->transformers==4.37.0.dev0) (2023.11.17)\n",
      "Requirement already satisfied: huggingface_hub in /home/dlopes/anaconda3/envs/pytorch2/lib/python3.9/site-packages (0.19.4)\n",
      "Requirement already satisfied: filelock in /home/dlopes/anaconda3/envs/pytorch2/lib/python3.9/site-packages (from huggingface_hub) (3.12.4)\n",
      "Requirement already satisfied: fsspec>=2023.5.0 in /home/dlopes/anaconda3/envs/pytorch2/lib/python3.9/site-packages (from huggingface_hub) (2023.9.2)\n",
      "Requirement already satisfied: requests in /home/dlopes/anaconda3/envs/pytorch2/lib/python3.9/site-packages (from huggingface_hub) (2.31.0)\n",
      "Requirement already satisfied: tqdm>=4.42.1 in /home/dlopes/.local/lib/python3.9/site-packages (from huggingface_hub) (4.65.0)\n",
      "Requirement already satisfied: pyyaml>=5.1 in /home/dlopes/anaconda3/envs/pytorch2/lib/python3.9/site-packages (from huggingface_hub) (6.0.1)\n",
      "Requirement already satisfied: typing-extensions>=3.7.4.3 in /home/dlopes/anaconda3/envs/pytorch2/lib/python3.9/site-packages (from huggingface_hub) (4.8.0)\n",
      "Requirement already satisfied: packaging>=20.9 in /home/dlopes/anaconda3/envs/pytorch2/lib/python3.9/site-packages (from huggingface_hub) (23.2)\n",
      "Requirement already satisfied: charset-normalizer<4,>=2 in /home/dlopes/anaconda3/envs/pytorch2/lib/python3.9/site-packages (from requests->huggingface_hub) (3.3.0)\n",
      "Requirement already satisfied: idna<4,>=2.5 in /home/dlopes/anaconda3/envs/pytorch2/lib/python3.9/site-packages (from requests->huggingface_hub) (3.4)\n",
      "Requirement already satisfied: urllib3<3,>=1.21.1 in /home/dlopes/anaconda3/envs/pytorch2/lib/python3.9/site-packages (from requests->huggingface_hub) (2.0.7)\n",
      "Requirement already satisfied: certifi>=2017.4.17 in /home/dlopes/anaconda3/envs/pytorch2/lib/python3.9/site-packages (from requests->huggingface_hub) (2023.11.17)\n",
      "Requirement already satisfied: gradio in /home/dlopes/anaconda3/envs/pytorch2/lib/python3.9/site-packages (4.9.0)\n",
      "Requirement already satisfied: aiofiles<24.0,>=22.0 in /home/dlopes/anaconda3/envs/pytorch2/lib/python3.9/site-packages (from gradio) (23.2.1)\n",
      "Requirement already satisfied: altair<6.0,>=4.2.0 in /home/dlopes/anaconda3/envs/pytorch2/lib/python3.9/site-packages (from gradio) (5.2.0)\n",
      "Requirement already satisfied: fastapi in /home/dlopes/anaconda3/envs/pytorch2/lib/python3.9/site-packages (from gradio) (0.104.0)\n",
      "Requirement already satisfied: ffmpy in /home/dlopes/anaconda3/envs/pytorch2/lib/python3.9/site-packages (from gradio) (0.3.1)\n",
      "Requirement already satisfied: gradio-client==0.7.2 in /home/dlopes/anaconda3/envs/pytorch2/lib/python3.9/site-packages (from gradio) (0.7.2)\n",
      "Requirement already satisfied: httpx in /home/dlopes/anaconda3/envs/pytorch2/lib/python3.9/site-packages (from gradio) (0.25.2)\n",
      "Requirement already satisfied: huggingface-hub>=0.19.3 in /home/dlopes/anaconda3/envs/pytorch2/lib/python3.9/site-packages (from gradio) (0.19.4)\n",
      "Requirement already satisfied: importlib-resources<7.0,>=1.3 in /home/dlopes/.local/lib/python3.9/site-packages (from gradio) (5.12.0)\n",
      "Requirement already satisfied: jinja2<4.0 in /home/dlopes/.local/lib/python3.9/site-packages (from gradio) (3.1.2)\n",
      "Requirement already satisfied: markupsafe~=2.0 in /home/dlopes/.local/lib/python3.9/site-packages (from gradio) (2.1.2)\n",
      "Requirement already satisfied: matplotlib~=3.0 in /home/dlopes/.local/lib/python3.9/site-packages (from gradio) (3.7.1)\n",
      "Requirement already satisfied: numpy~=1.0 in /home/dlopes/.local/lib/python3.9/site-packages (from gradio) (1.24.2)\n",
      "Requirement already satisfied: orjson~=3.0 in /home/dlopes/anaconda3/envs/pytorch2/lib/python3.9/site-packages (from gradio) (3.9.10)\n",
      "Requirement already satisfied: packaging in /home/dlopes/anaconda3/envs/pytorch2/lib/python3.9/site-packages (from gradio) (23.2)\n",
      "Requirement already satisfied: pandas<3.0,>=1.0 in /home/dlopes/.local/lib/python3.9/site-packages (from gradio) (1.5.3)\n",
      "Requirement already satisfied: pillow<11.0,>=8.0 in /home/dlopes/.local/lib/python3.9/site-packages (from gradio) (9.4.0)\n",
      "Requirement already satisfied: pydantic>=2.0 in /home/dlopes/anaconda3/envs/pytorch2/lib/python3.9/site-packages (from gradio) (2.4.2)\n",
      "Requirement already satisfied: pydub in /home/dlopes/anaconda3/envs/pytorch2/lib/python3.9/site-packages (from gradio) (0.25.1)\n",
      "Requirement already satisfied: python-multipart in /home/dlopes/anaconda3/envs/pytorch2/lib/python3.9/site-packages (from gradio) (0.0.6)\n",
      "Requirement already satisfied: pyyaml<7.0,>=5.0 in /home/dlopes/anaconda3/envs/pytorch2/lib/python3.9/site-packages (from gradio) (6.0.1)\n",
      "Requirement already satisfied: semantic-version~=2.0 in /home/dlopes/anaconda3/envs/pytorch2/lib/python3.9/site-packages (from gradio) (2.10.0)\n",
      "Requirement already satisfied: tomlkit==0.12.0 in /home/dlopes/anaconda3/envs/pytorch2/lib/python3.9/site-packages (from gradio) (0.12.0)\n",
      "Requirement already satisfied: typer<1.0,>=0.9 in /home/dlopes/anaconda3/envs/pytorch2/lib/python3.9/site-packages (from typer[all]<1.0,>=0.9->gradio) (0.9.0)\n",
      "Requirement already satisfied: typing-extensions~=4.0 in /home/dlopes/anaconda3/envs/pytorch2/lib/python3.9/site-packages (from gradio) (4.8.0)\n",
      "Requirement already satisfied: uvicorn>=0.14.0 in /home/dlopes/anaconda3/envs/pytorch2/lib/python3.9/site-packages (from gradio) (0.23.2)\n",
      "Requirement already satisfied: fsspec in /home/dlopes/anaconda3/envs/pytorch2/lib/python3.9/site-packages (from gradio-client==0.7.2->gradio) (2023.9.2)\n",
      "Requirement already satisfied: websockets<12.0,>=10.0 in /home/dlopes/anaconda3/envs/pytorch2/lib/python3.9/site-packages (from gradio-client==0.7.2->gradio) (11.0.3)\n",
      "Requirement already satisfied: jsonschema>=3.0 in /home/dlopes/anaconda3/envs/pytorch2/lib/python3.9/site-packages (from altair<6.0,>=4.2.0->gradio) (4.20.0)\n",
      "Requirement already satisfied: toolz in /home/dlopes/anaconda3/envs/pytorch2/lib/python3.9/site-packages (from altair<6.0,>=4.2.0->gradio) (0.12.0)\n",
      "Requirement already satisfied: filelock in /home/dlopes/anaconda3/envs/pytorch2/lib/python3.9/site-packages (from huggingface-hub>=0.19.3->gradio) (3.12.4)\n",
      "Requirement already satisfied: requests in /home/dlopes/anaconda3/envs/pytorch2/lib/python3.9/site-packages (from huggingface-hub>=0.19.3->gradio) (2.31.0)\n",
      "Requirement already satisfied: tqdm>=4.42.1 in /home/dlopes/.local/lib/python3.9/site-packages (from huggingface-hub>=0.19.3->gradio) (4.65.0)\n",
      "Requirement already satisfied: zipp>=3.1.0 in /home/dlopes/.local/lib/python3.9/site-packages (from importlib-resources<7.0,>=1.3->gradio) (3.15.0)\n",
      "Requirement already satisfied: contourpy>=1.0.1 in /home/dlopes/.local/lib/python3.9/site-packages (from matplotlib~=3.0->gradio) (1.0.7)\n",
      "Requirement already satisfied: cycler>=0.10 in /home/dlopes/.local/lib/python3.9/site-packages (from matplotlib~=3.0->gradio) (0.11.0)\n",
      "Requirement already satisfied: fonttools>=4.22.0 in /home/dlopes/.local/lib/python3.9/site-packages (from matplotlib~=3.0->gradio) (4.39.0)\n",
      "Requirement already satisfied: kiwisolver>=1.0.1 in /home/dlopes/.local/lib/python3.9/site-packages (from matplotlib~=3.0->gradio) (1.4.4)\n",
      "Requirement already satisfied: pyparsing>=2.3.1 in /home/dlopes/.local/lib/python3.9/site-packages (from matplotlib~=3.0->gradio) (3.0.9)\n",
      "Requirement already satisfied: python-dateutil>=2.7 in /home/dlopes/.local/lib/python3.9/site-packages (from matplotlib~=3.0->gradio) (2.8.2)\n",
      "Requirement already satisfied: pytz>=2020.1 in /home/dlopes/.local/lib/python3.9/site-packages (from pandas<3.0,>=1.0->gradio) (2022.7.1)\n",
      "Requirement already satisfied: annotated-types>=0.4.0 in /home/dlopes/anaconda3/envs/pytorch2/lib/python3.9/site-packages (from pydantic>=2.0->gradio) (0.6.0)\n",
      "Requirement already satisfied: pydantic-core==2.10.1 in /home/dlopes/anaconda3/envs/pytorch2/lib/python3.9/site-packages (from pydantic>=2.0->gradio) (2.10.1)\n",
      "Requirement already satisfied: click<9.0.0,>=7.1.1 in /home/dlopes/.local/lib/python3.9/site-packages (from typer<1.0,>=0.9->typer[all]<1.0,>=0.9->gradio) (8.1.3)\n",
      "Requirement already satisfied: colorama<0.5.0,>=0.4.3 in /home/dlopes/anaconda3/envs/pytorch2/lib/python3.9/site-packages (from typer[all]<1.0,>=0.9->gradio) (0.4.6)\n",
      "Requirement already satisfied: shellingham<2.0.0,>=1.3.0 in /home/dlopes/anaconda3/envs/pytorch2/lib/python3.9/site-packages (from typer[all]<1.0,>=0.9->gradio) (1.5.4)\n",
      "Requirement already satisfied: rich<14.0.0,>=10.11.0 in /home/dlopes/anaconda3/envs/pytorch2/lib/python3.9/site-packages (from typer[all]<1.0,>=0.9->gradio) (13.6.0)\n",
      "Requirement already satisfied: h11>=0.8 in /home/dlopes/anaconda3/envs/pytorch2/lib/python3.9/site-packages (from uvicorn>=0.14.0->gradio) (0.14.0)\n",
      "Requirement already satisfied: anyio<4.0.0,>=3.7.1 in /home/dlopes/anaconda3/envs/pytorch2/lib/python3.9/site-packages (from fastapi->gradio) (3.7.1)\n",
      "Requirement already satisfied: starlette<0.28.0,>=0.27.0 in /home/dlopes/anaconda3/envs/pytorch2/lib/python3.9/site-packages (from fastapi->gradio) (0.27.0)\n",
      "Requirement already satisfied: certifi in /home/dlopes/anaconda3/envs/pytorch2/lib/python3.9/site-packages (from httpx->gradio) (2023.11.17)\n",
      "Requirement already satisfied: httpcore==1.* in /home/dlopes/anaconda3/envs/pytorch2/lib/python3.9/site-packages (from httpx->gradio) (1.0.2)\n",
      "Requirement already satisfied: idna in /home/dlopes/anaconda3/envs/pytorch2/lib/python3.9/site-packages (from httpx->gradio) (3.4)\n",
      "Requirement already satisfied: sniffio in /home/dlopes/anaconda3/envs/pytorch2/lib/python3.9/site-packages (from httpx->gradio) (1.3.0)\n",
      "Requirement already satisfied: exceptiongroup in /home/dlopes/anaconda3/envs/pytorch2/lib/python3.9/site-packages (from anyio<4.0.0,>=3.7.1->fastapi->gradio) (1.1.3)\n",
      "Requirement already satisfied: attrs>=22.2.0 in /home/dlopes/anaconda3/envs/pytorch2/lib/python3.9/site-packages (from jsonschema>=3.0->altair<6.0,>=4.2.0->gradio) (23.1.0)\n",
      "Requirement already satisfied: jsonschema-specifications>=2023.03.6 in /home/dlopes/anaconda3/envs/pytorch2/lib/python3.9/site-packages (from jsonschema>=3.0->altair<6.0,>=4.2.0->gradio) (2023.11.1)\n",
      "Requirement already satisfied: referencing>=0.28.4 in /home/dlopes/anaconda3/envs/pytorch2/lib/python3.9/site-packages (from jsonschema>=3.0->altair<6.0,>=4.2.0->gradio) (0.31.0)\n",
      "Requirement already satisfied: rpds-py>=0.7.1 in /home/dlopes/anaconda3/envs/pytorch2/lib/python3.9/site-packages (from jsonschema>=3.0->altair<6.0,>=4.2.0->gradio) (0.13.0)\n",
      "Requirement already satisfied: six>=1.5 in /home/dlopes/anaconda3/envs/pytorch2/lib/python3.9/site-packages (from python-dateutil>=2.7->matplotlib~=3.0->gradio) (1.16.0)\n",
      "Requirement already satisfied: markdown-it-py>=2.2.0 in /home/dlopes/anaconda3/envs/pytorch2/lib/python3.9/site-packages (from rich<14.0.0,>=10.11.0->typer[all]<1.0,>=0.9->gradio) (3.0.0)\n",
      "Requirement already satisfied: pygments<3.0.0,>=2.13.0 in /home/dlopes/anaconda3/envs/pytorch2/lib/python3.9/site-packages (from rich<14.0.0,>=10.11.0->typer[all]<1.0,>=0.9->gradio) (2.16.1)\n",
      "Requirement already satisfied: charset-normalizer<4,>=2 in /home/dlopes/anaconda3/envs/pytorch2/lib/python3.9/site-packages (from requests->huggingface-hub>=0.19.3->gradio) (3.3.0)\n",
      "Requirement already satisfied: urllib3<3,>=1.21.1 in /home/dlopes/anaconda3/envs/pytorch2/lib/python3.9/site-packages (from requests->huggingface-hub>=0.19.3->gradio) (2.0.7)\n",
      "Requirement already satisfied: mdurl~=0.1 in /home/dlopes/anaconda3/envs/pytorch2/lib/python3.9/site-packages (from markdown-it-py>=2.2.0->rich<14.0.0,>=10.11.0->typer[all]<1.0,>=0.9->gradio) (0.1.2)\n"
     ]
    }
   ],
   "source": [
    "!pip install langchain\n",
    "!pip install chromadb\n",
    "!pip install pypdf\n",
    "!pip install faiss-cpu\n",
    "!pip install git+https://github.com/huggingface/transformers\n",
    "!pip install --upgrade huggingface_hub\n",
    "!pip install --upgrade gradio\n",
    "!export COMMANDLINE_ARGS=\"--no-gradio-queue\""
   ]
  },
  {
   "cell_type": "code",
   "execution_count": 2,
   "metadata": {},
   "outputs": [
    {
     "name": "stderr",
     "output_type": "stream",
     "text": [
      "/home/dlopes/.local/lib/python3.9/site-packages/tqdm/auto.py:21: TqdmWarning: IProgress not found. Please update jupyter and ipywidgets. See https://ipywidgets.readthedocs.io/en/stable/user_install.html\n",
      "  from .autonotebook import tqdm as notebook_tqdm\n",
      "`AnnotionFormat` is deprecated and will be removed in v4.38. Please use `transformers.image_utils.AnnotationFormat` instead.\n",
      "2023-12-14 11:06:21.943179: I tensorflow/core/util/port.cc:111] oneDNN custom operations are on. You may see slightly different numerical results due to floating-point round-off errors from different computation orders. To turn them off, set the environment variable `TF_ENABLE_ONEDNN_OPTS=0`.\n",
      "2023-12-14 11:06:21.994148: E tensorflow/compiler/xla/stream_executor/cuda/cuda_dnn.cc:9342] Unable to register cuDNN factory: Attempting to register factory for plugin cuDNN when one has already been registered\n",
      "2023-12-14 11:06:21.994187: E tensorflow/compiler/xla/stream_executor/cuda/cuda_fft.cc:609] Unable to register cuFFT factory: Attempting to register factory for plugin cuFFT when one has already been registered\n",
      "2023-12-14 11:06:21.994214: E tensorflow/compiler/xla/stream_executor/cuda/cuda_blas.cc:1518] Unable to register cuBLAS factory: Attempting to register factory for plugin cuBLAS when one has already been registered\n",
      "2023-12-14 11:06:22.003520: I tensorflow/core/platform/cpu_feature_guard.cc:182] This TensorFlow binary is optimized to use available CPU instructions in performance-critical operations.\n",
      "To enable the following instructions: AVX2 AVX512F AVX512_VNNI FMA, in other operations, rebuild TensorFlow with the appropriate compiler flags.\n",
      "2023-12-14 11:06:23.049850: W tensorflow/compiler/tf2tensorrt/utils/py_utils.cc:38] TF-TRT Warning: Could not find TensorRT\n"
     ]
    }
   ],
   "source": [
    "from langchain.chains.summarize import load_summarize_chain\n",
    "from langchain.document_loaders import PyPDFLoader\n",
    "from langchain.embeddings import HuggingFaceEmbeddings\n",
    "from transformers import AutoTokenizer, pipeline, AutoModelForCausalLM\n",
    "from langchain import HuggingFacePipeline\n",
    "\n",
    "from langchain.document_loaders import PyPDFDirectoryLoader\n",
    "from langchain.vectorstores import FAISS\n",
    "from langchain.chains import RetrievalQA\n",
    "from langchain.text_splitter import CharacterTextSplitter\n",
    "from huggingface_hub import login\n",
    "import gradio as gr\n",
    "\n",
    "import torch\n",
    "import textwrap\n",
    "import os\n",
    "import glob\n",
    "\n",
    "\n",
    "import api_tokens"
   ]
  },
  {
   "cell_type": "markdown",
   "metadata": {},
   "source": [
    "### Query PDF documents (Q&A)"
   ]
  },
  {
   "cell_type": "markdown",
   "metadata": {},
   "source": [
    "* I tried several models from HuggingFace, such as Google Research's T5 and LongT5, but obtaining errors and truncated output with many configurations.\n",
    "* I didn't want to use OpenAI's ChatGPT due to being paid for.\n",
    "* The only one that worked without truncating the output was https://huggingface.co/meta-llama/Llama-2-7b-chat-hf."
   ]
  },
  {
   "cell_type": "markdown",
   "metadata": {},
   "source": [
    "**Note:** Requires asking for permission to the model's authors, but took only a few minutes."
   ]
  },
  {
   "cell_type": "markdown",
   "metadata": {},
   "source": [
    "##### Storing embeddings in a FAISS vector store"
   ]
  },
  {
   "cell_type": "code",
   "execution_count": 3,
   "metadata": {},
   "outputs": [],
   "source": [
    "def store_embeddings_in_FAISS(base_dir: str) -> FAISS:\n",
    "    loader = PyPDFDirectoryLoader(base_dir)\n",
    "    docs = loader.load()\n",
    "\n",
    "    text_splitter = CharacterTextSplitter(chunk_size=650, chunk_overlap=150)\n",
    "    texts = text_splitter.split_documents(docs)\n",
    "    embeddings = HuggingFaceEmbeddings(model_name='sentence-transformers/all-MiniLM-L6-v2')\n",
    "    db = FAISS.from_documents(texts, embeddings)\n",
    "\n",
    "    return db"
   ]
  },
  {
   "cell_type": "code",
   "execution_count": 4,
   "metadata": {},
   "outputs": [],
   "source": [
    "# def build_summarization_langchain_pipeline(model_name: str) -> HuggingFacePipeline:\n",
    "#     tokenizer = AutoTokenizer.from_pretrained(model_name)\n",
    "#     model = AutoModelForCausalLM.from_pretrained(model_name,\n",
    "#                                                 device_map='auto',\n",
    "#                                                 torch_dtype=torch.float16,\n",
    "#                                                 use_auth_token=True,\n",
    "#                                                 load_in_8bit=True,\n",
    "#                                                 )\n",
    "\n",
    "#     pipe = pipeline(\"text-generation\",\n",
    "#                     model=model,\n",
    "#                     tokenizer= tokenizer,\n",
    "#                     torch_dtype=torch.bfloat16,\n",
    "#                     trust_remote_code=True,\n",
    "#                     device_map=\"auto\",\n",
    "#                     max_length=3000, # Prevent issues when the document is too long\n",
    "#                     do_sample=True,\n",
    "#                     top_k=10,\n",
    "#                     num_return_sequences=1,\n",
    "#                     eos_token_id=tokenizer.eos_token_id\n",
    "#                     )\n",
    "\n",
    "#     llm = HuggingFacePipeline(pipeline=pipe,\n",
    "#                                 model_kwargs={\n",
    "#                                     'temperature':0 # Gives direct summaries and prevent randomness\n",
    "#                                 },\n",
    "#                             )\n",
    "    \n",
    "#     return llm"
   ]
  },
  {
   "cell_type": "code",
   "execution_count": 5,
   "metadata": {},
   "outputs": [],
   "source": [
    "def build_langchain_pipeline(model_name: str) -> HuggingFacePipeline:\n",
    "    tokenizer = AutoTokenizer.from_pretrained(model_name)\n",
    "    model = AutoModelForCausalLM.from_pretrained(model_name,\n",
    "                                                device_map='auto',\n",
    "                                                torch_dtype=torch.float16,\n",
    "                                                use_auth_token=True,\n",
    "                                                load_in_8bit=True,\n",
    "                                                )\n",
    "\n",
    "    pipe = pipeline(\"text-generation\",\n",
    "                    model=model,\n",
    "                    tokenizer= tokenizer,\n",
    "                    torch_dtype=torch.bfloat16,\n",
    "                    device_map=\"auto\",\n",
    "                    max_new_tokens = 1024,\n",
    "                    do_sample=True,\n",
    "                    top_k=10,\n",
    "                    num_return_sequences=1,\n",
    "                    eos_token_id=tokenizer.eos_token_id\n",
    "                    )\n",
    "\n",
    "    llm = HuggingFacePipeline(pipeline=pipe,\n",
    "                                model_kwargs={\n",
    "                                    'temperature':0\n",
    "                                },\n",
    "                            )\n",
    "    \n",
    "    return llm"
   ]
  },
  {
   "cell_type": "code",
   "execution_count": 6,
   "metadata": {},
   "outputs": [
    {
     "name": "stdout",
     "output_type": "stream",
     "text": [
      "Token will not been saved to git credential helper. Pass `add_to_git_credential=True` if you want to set the git credential as well.\n",
      "Token is valid (permission: read).\n",
      "Your token has been saved to /home/dlopes/.cache/huggingface/token\n",
      "Login successful\n"
     ]
    },
    {
     "name": "stderr",
     "output_type": "stream",
     "text": [
      "/home/dlopes/anaconda3/envs/pytorch2/lib/python3.9/site-packages/transformers/models/auto/auto_factory.py:472: FutureWarning: The `use_auth_token` argument is deprecated and will be removed in v5 of Transformers. Please use `token` instead.\n",
      "  warnings.warn(\n",
      "Loading checkpoint shards: 100%|██████████| 2/2 [00:03<00:00,  1.50s/it]\n"
     ]
    }
   ],
   "source": [
    "embeddings_name = 'sentence-transformers/all-MiniLM-L6-v2'\n",
    "model_name = 'meta-llama/Llama-2-7b-chat-hf'\n",
    "\n",
    "login(token=api_tokens.HUGGINGFACEHUB_API_TOKEN)\n",
    "#llm_summarization = build_summarization_langchain_pipeline(model_name)\n",
    "llm = build_langchain_pipeline(model_name)"
   ]
  },
  {
   "cell_type": "markdown",
   "metadata": {},
   "source": [
    "##### Summarizing all pdfs in pdfs folder"
   ]
  },
  {
   "cell_type": "code",
   "execution_count": 7,
   "metadata": {},
   "outputs": [],
   "source": [
    "def summarize_pdfs_from_folder(pdfs_folder, llm):\n",
    "    summaries = []\n",
    "    for pdf_file in glob.glob(pdfs_folder + \"/*.pdf\"):\n",
    "        loader = PyPDFLoader(pdf_file)\n",
    "        docs = loader.load_and_split()\n",
    "\n",
    "        chain = load_summarize_chain(llm, chain_type=\"map_reduce\")\n",
    "        # template = \"\"\"\n",
    "        #       Write a summary of the following text delimited by triple backticks.\n",
    "        #       Return your response which covers the key points of the text.\n",
    "        #       ```{text}```\n",
    "        #       SUMMARY:\n",
    "        #    \"\"\"\n",
    "\n",
    "        # prompt = PromptTemplate(template=template, input_variables=[\"text\"])\n",
    "        # chain = LLMChain(prompt=prompt, llm=llm)\n",
    "\n",
    "        summary = chain.run(docs)\n",
    "        print(\"Summary for: \", pdf_file)\n",
    "        print(summary)\n",
    "        print(\"\\n\")\n",
    "        summaries.append(summary)\n",
    "    \n",
    "    return summaries"
   ]
  },
  {
   "cell_type": "code",
   "execution_count": 8,
   "metadata": {},
   "outputs": [
    {
     "name": "stderr",
     "output_type": "stream",
     "text": [
      "Token indices sequence length is longer than the specified maximum sequence length for this model (3270 > 1024). Running this sequence through the model will result in indexing errors\n"
     ]
    },
    {
     "name": "stdout",
     "output_type": "stream",
     "text": [
      "Summary for:  ./pdfs/AI-IDS_Application_of_Deep_Learning_to_Real-Time_Web_Intrusion_Detection.pdf\n",
      "\n",
      "\n",
      "The article discusses the application of deep learning to real-time web intrusion detection using AI-IDS. The system combines CNNs and LSTM networks to analyze HTTP traffic and detect malicious patterns. The system was evaluated on a real-world dataset and achieved high accuracy and precision. The authors also discuss the importance of scalability and precision in addition to accuracy when evaluating deep learning-based IDSs. The paper provides a comprehensive overview of current state of IDSs based on deep learning techniques and proposes a new approach that combines traditional IDSs with deep learning techniques.\n",
      "\n",
      "\n"
     ]
    },
    {
     "name": "stderr",
     "output_type": "stream",
     "text": [
      "/home/dlopes/anaconda3/envs/pytorch2/lib/python3.9/site-packages/transformers/pipelines/base.py:1101: UserWarning: You seem to be using the pipelines sequentially on GPU. In order to maximize efficiency please use a dataset\n",
      "  warnings.warn(\n",
      "/home/dlopes/anaconda3/envs/pytorch2/lib/python3.9/site-packages/transformers/pipelines/base.py:1101: UserWarning: You seem to be using the pipelines sequentially on GPU. In order to maximize efficiency please use a dataset\n",
      "  warnings.warn(\n"
     ]
    },
    {
     "name": "stdout",
     "output_type": "stream",
     "text": [
      "Summary for:  ./pdfs/separating.pdf\n",
      "\n",
      "\n",
      "This paper discusses the issue of privacy in encrypted tunnel traffic and proposes a novel deep neural network architecture to detect individual anomalous packets in a flow. The approach is tested on synthetic flows and real-world network traces, showing high accuracy in separating flows. The paper demonstrates that common packet-level encryption may not be sufficient to achieve high levels of privacy and highlights the relevance of the proposed approach in real-world scenarios. The authors propose an approach for analyzing encrypted tunnel traffic and evaluate it on several publicly available real-world network traces. They show that their proposed approach can separate packets from different flows with good accuracy, laying the groundwork for implementing intrusion detection on encrypted tunnel traffic.\n",
      "\n",
      "\n"
     ]
    },
    {
     "name": "stderr",
     "output_type": "stream",
     "text": [
      "/home/dlopes/anaconda3/envs/pytorch2/lib/python3.9/site-packages/transformers/pipelines/base.py:1101: UserWarning: You seem to be using the pipelines sequentially on GPU. In order to maximize efficiency please use a dataset\n",
      "  warnings.warn(\n",
      "/home/dlopes/anaconda3/envs/pytorch2/lib/python3.9/site-packages/transformers/pipelines/base.py:1101: UserWarning: You seem to be using the pipelines sequentially on GPU. In order to maximize efficiency please use a dataset\n",
      "  warnings.warn(\n"
     ]
    },
    {
     "name": "stdout",
     "output_type": "stream",
     "text": [
      "Summary for:  ./pdfs/Comparison of machine-learning algorithms for classification of VPN network traffic flow using time-related features.pdf\n",
      "\n",
      "\n",
      "\n",
      "Six machine-learning models (Random Forest, Gradient Boosting Tree, Naive Bayes, Decision Trees, Support Vector Machines, and Linear Regression) were compared for classifying VPN and non-VPN network traffic flow data based on time-related features from various network flow categories. The optimized Random Forest and Gradient Boosting Tree models were found to outperform the other models in terms of accuracy and computational efficiency. The study also showed that a small number of time-related features could achieve over 90% accuracy for each network flow category. The results can be employed in the development of fast rule-based classifiers.\n",
      "\n",
      "\n"
     ]
    },
    {
     "name": "stderr",
     "output_type": "stream",
     "text": [
      "/home/dlopes/anaconda3/envs/pytorch2/lib/python3.9/site-packages/transformers/pipelines/base.py:1101: UserWarning: You seem to be using the pipelines sequentially on GPU. In order to maximize efficiency please use a dataset\n",
      "  warnings.warn(\n",
      "/home/dlopes/anaconda3/envs/pytorch2/lib/python3.9/site-packages/transformers/pipelines/base.py:1101: UserWarning: You seem to be using the pipelines sequentially on GPU. In order to maximize efficiency please use a dataset\n",
      "  warnings.warn(\n"
     ]
    },
    {
     "name": "stdout",
     "output_type": "stream",
     "text": [
      "Summary for:  ./pdfs/15008-Article Text-18527-1-2-20201228.pdf\n",
      "\n",
      "The paper investigates the illegal streaming cyberlocker ecosystem, focusing on the characteristics of cyberlockers, their hosting providers, and the actions of copyright enforcers. The authors find that the system is highly centralized with a few networks, countries, and cyberlockers providing most of the content, and that copyright enforcers tend to target small subsets of the ecosystem with some success in removing content. They also observe that individual pirates operate multiple websites, and that there are third-party domains that facilitate the distribution of infringing content. The study provides insights into the structure and monetization strategies of cyberlockers and highlights the challenges of identifying and analyzing them.\n",
      "\n",
      "\n"
     ]
    },
    {
     "name": "stderr",
     "output_type": "stream",
     "text": [
      "/home/dlopes/anaconda3/envs/pytorch2/lib/python3.9/site-packages/transformers/pipelines/base.py:1101: UserWarning: You seem to be using the pipelines sequentially on GPU. In order to maximize efficiency please use a dataset\n",
      "  warnings.warn(\n",
      "/home/dlopes/anaconda3/envs/pytorch2/lib/python3.9/site-packages/transformers/pipelines/base.py:1101: UserWarning: You seem to be using the pipelines sequentially on GPU. In order to maximize efficiency please use a dataset\n",
      "  warnings.warn(\n"
     ]
    },
    {
     "name": "stdout",
     "output_type": "stream",
     "text": [
      "Summary for:  ./pdfs/Multilayer_Perceptron_Neural_Network_fo...ction_of_Encrypted_VPN_Network_Traffic.pdf\n",
      "\n",
      "\n",
      "The paper proposes a novel approach to detecting encrypted VPN traffic using a multilayer perceptron neural network. The approach is evaluated using a real-world VPN network dataset and shows high accuracy in detecting encrypted VPN traffic. The paper was published in the IEEE International Conference on Cyber Situational Awareness, Data Analytics and Assessment in 2018.\n",
      "\n",
      "\n"
     ]
    },
    {
     "name": "stderr",
     "output_type": "stream",
     "text": [
      "/home/dlopes/anaconda3/envs/pytorch2/lib/python3.9/site-packages/transformers/pipelines/base.py:1101: UserWarning: You seem to be using the pipelines sequentially on GPU. In order to maximize efficiency please use a dataset\n",
      "  warnings.warn(\n",
      "/home/dlopes/anaconda3/envs/pytorch2/lib/python3.9/site-packages/transformers/pipelines/base.py:1101: UserWarning: You seem to be using the pipelines sequentially on GPU. In order to maximize efficiency please use a dataset\n",
      "  warnings.warn(\n",
      "/home/dlopes/anaconda3/envs/pytorch2/lib/python3.9/site-packages/transformers/pipelines/base.py:1101: UserWarning: You seem to be using the pipelines sequentially on GPU. In order to maximize efficiency please use a dataset\n",
      "  warnings.warn(\n",
      "This is a friendly reminder - the current text generation call will exceed the model's predefined maximum length (4096). Depending on the model, you may observe exceptions, performance degradation, or nothing at all.\n",
      "/home/dlopes/anaconda3/envs/pytorch2/lib/python3.9/site-packages/transformers/pipelines/base.py:1101: UserWarning: You seem to be using the pipelines sequentially on GPU. In order to maximize efficiency please use a dataset\n",
      "  warnings.warn(\n",
      "/home/dlopes/anaconda3/envs/pytorch2/lib/python3.9/site-packages/transformers/pipelines/base.py:1101: UserWarning: You seem to be using the pipelines sequentially on GPU. In order to maximize efficiency please use a dataset\n",
      "  warnings.warn(\n"
     ]
    },
    {
     "name": "stdout",
     "output_type": "stream",
     "text": [
      "Summary for:  ./pdfs/Accepted version.pdf\n",
      "MSMS MSMSMS MSMS MSMS MSMS MSMS MSMS MSMS MSMS MSMS MSMS MSMS MSMS MSMS MSMS MSMS MSMS MSMS MSMS MSMS MSMS MSMS MSMS MSMS MSMS MSMS MSMS MSMS MSMS MSMS MSMS MSMS MSMS MSMS MSMS MSMS MSMS MSMS MSMS MSMS MSMS MSMS MSMS MSMS MSMS MSMS MSMS MSMS MSMS MSMS MSMS MSMS MSMS MSMS MSMS MSMS MSMS MSMS MSMS MSMS MSMS MSMS MSMS MSMS MSMS MSMS MSMS MSMS MSMS MSMS MSMS MSMS MSMS MSMS MSMS MSMS MSMS MSMS MSMS MSMS MSMS MSMS MSMS MSMS MSMS MSMS MSMS MSMS MSMS MSMS MSMS MSMS MSMS MSMS MSMS MSMS MSMS MSMS MSMS MSMS MSMS MSMS MSMS MSMS MSMS MSMS MSMS MSMS MSMS MSMS MSMS MSMS MSMS MSMS MSMS MSMS MSMS MSMS MSMS MSMS MSMS MSMS MSMS MSMS MSMS MSMS MSMS MSMS MSMS MSMS MSMS MSMS MSMS MSMS MSMS MSMS MSMS MSMS MSMS MSMS MSMS MSMS MSMS MSMS MSMS MSMS MSMS MSMS MSMS MSMS MSMS MSMS MSMS MSMS MSMS MSMS MSMS MSMS MSMS MSMS MSMS MSMS MSMS MSMS MSMS MSMS MSMS MSMS MSMS MSMS MSMS MSMS MSMS MSMS MSMS MSMS MSMS MSMS MSMS MSMS MSMS MSMS MSMS MSMS MSMS MSMS MSMS MSMS MSMS MSMS MSMS MSMS MSMS MSMS MSMS MSMS MSMS MSMS MSMS MSMS MSMS MSMS MSMS MSMS MSMS MSMS MSMS MSMS MSMS MSMS MSMS MSMS MSMS MSMS MSMS MSMS MSMS MSMS MSMS MSMS MSMS MSMS MSMS MSMS MSMS MSMS MSMS MSMS MSMS MSMS MSMS MSMS MSMS MSMS MSMS MSMS MSMS MSMS MSMS MSMS MSMS MSMS MSMS MSMS MSMS MSMS MSMS MSMS MSMS MSMS MSMS MSMS MSMS MSMS MSMS MSMS MSMS MSMS MSMS MSMS MSMS MSMS MSMS MSMS MSMS MSMS MSMS MSMS MSMS MSMS MSMS MSMS MSMS MSMS MSMS MSMS MSMS MSMS MSMS MSMS MSMS MSMS MSMS MSMS MSMS MSMS MSMS MSMS MSMS MSMS MSMS MSMS MSMS MSMS MSMS MSMS MSMS MSMS MSMS MSMS MSMS MSMS MSMS MSMS MSMS MSMS MSMS MSMS MSMS MSMS MSMS MSMS MSMS MSMS MSMS MSMS MSMS MSMS MSMS MSMS MSMS MSMS MSMS MSMS MSMS MSMS MSMS MSMS MSMS MSMS MSMS MSMS MSMS MSMS MSMS MSMS MSMS MSMS MSMS MSMS MSMS MSMS MSMS MSMS MSMS MSMS MSMS MSMS MSMS MSMS MSMS MSMS MSMS MSMS MSMS MSMS MSMS MSMS MSMS MSMS MSMS MSMS MSMS MSMS MSMS MSMS MSMS MSMS MSMS MSMS MSMS MSMS MSMS MSMS MSMS MSMS MSMS MSMS MSMS MSMS MSMS MSMS MSMS MSMS MSMS MSMS MSMS MSMS MSMS MSMS MSMS MSMS MSMS MSMS MSMS MSMS MSMS MSMS MSMS MSMS MSMS MSMS MSMS MSMS MSMS MSMS MSMS MSMS MSMS MSMS MSMS MSMS MSMS MSMS MSMS MSMS MSMS MSMS MSMS MSMS MSMS MSMS MSMS MSMS MSMS MSMS MSMS MSMS MSMS MSMS MSMS MSMS MSMS MSMS MSMS MSMS MSMS MSMS MSMS MSMS MSMS MSMS MSMS MSMS MSMS MSMS MSMS MSMS MSMS MSMS MSMS MSMS MSMS MSMS MSMS MSMS MSMS MSMS MSMS MSMS MSMS MSMS MSMS MSMS MSMS MSMS MSMS MSMS MSMS MSMS MSMS MSMS MSMS MSMS MSMS MSMS MSMS MSMS MSMS MSMS MSMS MSMS MSMS MSMS MSMS MSMS MSMS MSMS MSMS MSMS MSMS MSMS MSMS MSMS MSMS MSMS MSMS MSMS MSMS MSMS MSMS MSMS MSMS MSMS MSMS MSMS MSMS MSMS MSMS MSMS MSMS MS\n",
      "\n",
      "\n"
     ]
    }
   ],
   "source": [
    "pdf_folder = \"./pdfs\"\n",
    "if not os.path.exists(pdf_folder):\n",
    "    os.makedirs(pdf_folder)\n",
    "#summaries = summarize_pdfs_from_folder(pdf_folder, llm_summarization)\n",
    "summaries = summarize_pdfs_from_folder(pdf_folder, llm)\n",
    "\n",
    "with open(\"summaries.txt\", \"w\") as f:\n",
    "    for summary in summaries:\n",
    "        f.write(summary + \"\\n\"*3)"
   ]
  },
  {
   "cell_type": "markdown",
   "metadata": {},
   "source": [
    "##### Querying pdfs in pdfs folder"
   ]
  },
  {
   "cell_type": "code",
   "execution_count": 9,
   "metadata": {},
   "outputs": [],
   "source": [
    "def query_pdfs(query: str, qa: RetrievalQA) -> str:\n",
    "    result = qa({\"query\": query})\n",
    "    wrapped_text = textwrap.fill(result['result'], width=500)\n",
    "    print(wrapped_text)\n",
    "    return wrapped_text"
   ]
  },
  {
   "cell_type": "code",
   "execution_count": 10,
   "metadata": {},
   "outputs": [],
   "source": [
    "db = store_embeddings_in_FAISS(pdf_folder)\n",
    "qa = RetrievalQA.from_chain_type(llm=llm, \n",
    "                                 chain_type=\"stuff\", \n",
    "                                 retriever=db.as_retriever(\n",
    "                                     search_type=\"similarity\", \n",
    "                                     search_kwargs={\"k\": 2}), # We are interested in the top 2 results\n",
    "                                 return_source_documents=True)\n"
   ]
  },
  {
   "cell_type": "code",
   "execution_count": 11,
   "metadata": {},
   "outputs": [
    {
     "name": "stderr",
     "output_type": "stream",
     "text": [
      "/home/dlopes/anaconda3/envs/pytorch2/lib/python3.9/site-packages/transformers/pipelines/base.py:1101: UserWarning: You seem to be using the pipelines sequentially on GPU. In order to maximize efficiency please use a dataset\n",
      "  warnings.warn(\n"
     ]
    },
    {
     "name": "stdout",
     "output_type": "stream",
     "text": [
      " The paper explores the online video piracy (OVP) ecosystem, focusing on streaming cyberlockers, which are central to the distribution of pirated content. The authors characterize the content, streaming cyberlockers' individual attributes, and the actions of copyright enforcers. They find a centralized system with a few networks, countries, and cyberlockers dominating provisioning, and a remarkable success rate of copyright notices in removing content. Additional Information:  * The paper\n",
      "performs the ﬁrst exploration of the new ecosystem of online video piracy. * It characterizes the content, as well as the streaming cyberlockers' individual attributes. * The authors investigate the actions of copyright enforcers and find a high success rate in removing content. * They identify a centralized system with a few networks, countries, and cyberlockers dominating provisioning. * The paper has implications for understanding modern copyright infringement and its impact on content\n",
      "creators and distributors.\n"
     ]
    },
    {
     "data": {
      "text/plain": [
       "\" The paper explores the online video piracy (OVP) ecosystem, focusing on streaming cyberlockers, which are central to the distribution of pirated content. The authors characterize the content, streaming cyberlockers' individual attributes, and the actions of copyright enforcers. They find a centralized system with a few networks, countries, and cyberlockers dominating provisioning, and a remarkable success rate of copyright notices in removing content. Additional Information:  * The paper\\nperforms the ﬁrst exploration of the new ecosystem of online video piracy. * It characterizes the content, as well as the streaming cyberlockers' individual attributes. * The authors investigate the actions of copyright enforcers and find a high success rate in removing content. * They identify a centralized system with a few networks, countries, and cyberlockers dominating provisioning. * The paper has implications for understanding modern copyright infringement and its impact on content\\ncreators and distributors.\""
      ]
     },
     "execution_count": 11,
     "metadata": {},
     "output_type": "execute_result"
    }
   ],
   "source": [
    "query_pdfs(\"What is the core idea behind the Movie Pirates of the Caribbean paper?\", qa)"
   ]
  },
  {
   "cell_type": "markdown",
   "metadata": {},
   "source": [
    "### Build an interface"
   ]
  },
  {
   "cell_type": "markdown",
   "metadata": {},
   "source": [
    "This uses Gradio to build a simple interface to query pdfs."
   ]
  },
  {
   "cell_type": "code",
   "execution_count": 12,
   "metadata": {},
   "outputs": [],
   "source": [
    "def query_pdfs_interface(query: str, pdfs_folder) -> str:\n",
    "    db = store_embeddings_in_FAISS(pdf_folder)\n",
    "    qa = RetrievalQA.from_chain_type(llm=llm, \n",
    "                                    chain_type=\"stuff\", \n",
    "                                    retriever=db.as_retriever(\n",
    "                                        search_type=\"similarity\", \n",
    "                                        search_kwargs={\"k\": 2}), # We are interested in the top 2 results\n",
    "                                    return_source_documents=True)\n",
    "\n",
    "    result = qa({\"query\": query})\n",
    "    wrapped_text = textwrap.fill(result['result'], width=500)\n",
    "    return wrapped_text"
   ]
  },
  {
   "cell_type": "code",
   "execution_count": 13,
   "metadata": {},
   "outputs": [],
   "source": [
    "def build_interface():\n",
    "    interface = gr.Interface(\n",
    "        fn = query_pdfs_interface,\n",
    "        inputs = [\"text\", \"text\"],\n",
    "        outputs = \"text\",\n",
    "        title = \"PDF Q&A\",\n",
    "        description = \"This app allows you to query your PDF files.\",\n",
    "    ).launch(share=True)"
   ]
  },
  {
   "cell_type": "code",
   "execution_count": 14,
   "metadata": {},
   "outputs": [
    {
     "name": "stdout",
     "output_type": "stream",
     "text": [
      "Running on local URL:  http://127.0.0.1:7860\n"
     ]
    },
    {
     "name": "stderr",
     "output_type": "stream",
     "text": [
      "Exception in thread Thread-8:\n",
      "Traceback (most recent call last):\n",
      "  File \"/home/dlopes/anaconda3/envs/pytorch2/lib/python3.9/site-packages/httpcore/_exceptions.py\", line 10, in map_exceptions\n",
      "    yield\n",
      "  File \"/home/dlopes/anaconda3/envs/pytorch2/lib/python3.9/site-packages/httpcore/_backends/sync.py\", line 206, in connect_tcp\n",
      "    sock = socket.create_connection(\n",
      "  File \"/home/dlopes/anaconda3/envs/pytorch2/lib/python3.9/socket.py\", line 844, in create_connection\n",
      "    raise err\n",
      "  File \"/home/dlopes/anaconda3/envs/pytorch2/lib/python3.9/socket.py\", line 832, in create_connection\n",
      "    sock.connect(sa)\n",
      "socket.timeout: timed out\n",
      "\n",
      "The above exception was the direct cause of the following exception:\n",
      "\n",
      "Traceback (most recent call last):\n",
      "  File \"/home/dlopes/anaconda3/envs/pytorch2/lib/python3.9/site-packages/httpx/_transports/default.py\", line 66, in map_httpcore_exceptions\n",
      "    yield\n",
      "  File \"/home/dlopes/anaconda3/envs/pytorch2/lib/python3.9/site-packages/httpx/_transports/default.py\", line 228, in handle_request\n",
      "    resp = self._pool.handle_request(req)\n",
      "  File \"/home/dlopes/anaconda3/envs/pytorch2/lib/python3.9/site-packages/httpcore/_sync/connection_pool.py\", line 268, in handle_request\n",
      "    raise exc\n",
      "  File \"/home/dlopes/anaconda3/envs/pytorch2/lib/python3.9/site-packages/httpcore/_sync/connection_pool.py\", line 251, in handle_request\n",
      "    response = connection.handle_request(request)\n",
      "  File \"/home/dlopes/anaconda3/envs/pytorch2/lib/python3.9/site-packages/httpcore/_sync/connection.py\", line 99, in handle_request\n",
      "    raise exc\n",
      "  File \"/home/dlopes/anaconda3/envs/pytorch2/lib/python3.9/site-packages/httpcore/_sync/connection.py\", line 76, in handle_request\n",
      "    stream = self._connect(request)\n",
      "  File \"/home/dlopes/anaconda3/envs/pytorch2/lib/python3.9/site-packages/httpcore/_sync/connection.py\", line 124, in _connect\n",
      "    stream = self._network_backend.connect_tcp(**kwargs)\n",
      "  File \"/home/dlopes/anaconda3/envs/pytorch2/lib/python3.9/site-packages/httpcore/_backends/sync.py\", line 213, in connect_tcp\n",
      "    sock.setsockopt(socket.IPPROTO_TCP, socket.TCP_NODELAY, 1)\n",
      "  File \"/home/dlopes/anaconda3/envs/pytorch2/lib/python3.9/contextlib.py\", line 137, in __exit__\n",
      "    self.gen.throw(typ, value, traceback)\n",
      "  File \"/home/dlopes/anaconda3/envs/pytorch2/lib/python3.9/site-packages/httpcore/_exceptions.py\", line 14, in map_exceptions\n",
      "    raise to_exc(exc) from exc\n",
      "httpcore.ConnectTimeout: timed out\n",
      "\n",
      "The above exception was the direct cause of the following exception:\n",
      "\n",
      "Traceback (most recent call last):\n",
      "  File \"/home/dlopes/anaconda3/envs/pytorch2/lib/python3.9/threading.py\", line 980, in _bootstrap_inner\n",
      "    self.run()\n",
      "  File \"/home/dlopes/anaconda3/envs/pytorch2/lib/python3.9/threading.py\", line 917, in run\n",
      "    self._target(*self._args, **self._kwargs)\n",
      "  File \"/home/dlopes/anaconda3/envs/pytorch2/lib/python3.9/site-packages/gradio/analytics.py\", line 63, in _do_normal_analytics_request\n",
      "    httpx.post(url, data=data, timeout=5)\n",
      "  File \"/home/dlopes/anaconda3/envs/pytorch2/lib/python3.9/site-packages/httpx/_api.py\", line 304, in post\n",
      "    return request(\n",
      "  File \"/home/dlopes/anaconda3/envs/pytorch2/lib/python3.9/site-packages/httpx/_api.py\", line 100, in request\n",
      "    return client.request(\n",
      "  File \"/home/dlopes/anaconda3/envs/pytorch2/lib/python3.9/site-packages/httpx/_client.py\", line 814, in request\n",
      "    return self.send(request, auth=auth, follow_redirects=follow_redirects)\n",
      "  File \"/home/dlopes/anaconda3/envs/pytorch2/lib/python3.9/site-packages/httpx/_client.py\", line 901, in send\n",
      "    response = self._send_handling_auth(\n",
      "  File \"/home/dlopes/anaconda3/envs/pytorch2/lib/python3.9/site-packages/httpx/_client.py\", line 929, in _send_handling_auth\n",
      "    response = self._send_handling_redirects(\n",
      "  File \"/home/dlopes/anaconda3/envs/pytorch2/lib/python3.9/site-packages/httpx/_client.py\", line 966, in _send_handling_redirects\n",
      "    response = self._send_single_request(request)\n",
      "  File \"/home/dlopes/anaconda3/envs/pytorch2/lib/python3.9/site-packages/httpx/_client.py\", line 1002, in _send_single_request\n",
      "    response = transport.handle_request(request)\n",
      "  File \"/home/dlopes/anaconda3/envs/pytorch2/lib/python3.9/site-packages/httpx/_transports/default.py\", line 228, in handle_request\n",
      "    resp = self._pool.handle_request(req)\n",
      "  File \"/home/dlopes/anaconda3/envs/pytorch2/lib/python3.9/contextlib.py\", line 137, in __exit__\n",
      "    self.gen.throw(typ, value, traceback)\n",
      "  File \"/home/dlopes/anaconda3/envs/pytorch2/lib/python3.9/site-packages/httpx/_transports/default.py\", line 83, in map_httpcore_exceptions\n",
      "    raise mapped_exc(message) from exc\n",
      "httpx.ConnectTimeout: timed out\n"
     ]
    },
    {
     "name": "stdout",
     "output_type": "stream",
     "text": [
      "\n",
      "Could not create share link. Please check your internet connection or our status page: https://status.gradio.app.\n"
     ]
    },
    {
     "name": "stderr",
     "output_type": "stream",
     "text": [
      "2023/12/14 11:56:41 [W] [service.go:132] login to server failed: dial tcp 44.237.78.176:7000: i/o timeout\n"
     ]
    },
    {
     "data": {
      "text/html": [
       "<div><iframe src=\"http://127.0.0.1:7860/\" width=\"100%\" height=\"500\" allow=\"autoplay; camera; microphone; clipboard-read; clipboard-write;\" frameborder=\"0\" allowfullscreen></iframe></div>"
      ],
      "text/plain": [
       "<IPython.core.display.HTML object>"
      ]
     },
     "metadata": {},
     "output_type": "display_data"
    }
   ],
   "source": [
    "build_interface()"
   ]
  }
 ],
 "metadata": {
  "kernelspec": {
   "display_name": "pytorch2",
   "language": "python",
   "name": "python3"
  },
  "language_info": {
   "codemirror_mode": {
    "name": "ipython",
    "version": 3
   },
   "file_extension": ".py",
   "mimetype": "text/x-python",
   "name": "python",
   "nbconvert_exporter": "python",
   "pygments_lexer": "ipython3",
   "version": "3.9.18"
  }
 },
 "nbformat": 4,
 "nbformat_minor": 2
}
